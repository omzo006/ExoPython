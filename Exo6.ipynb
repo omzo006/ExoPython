{
 "cells": [
  {
   "cell_type": "code",
   "execution_count": 2,
   "id": "b2c8bdb1",
   "metadata": {},
   "outputs": [],
   "source": [
    "#Question 6\n",
    "#Ecrivez un programme NumPy pour calculer la matrice de covariance de deux tableaux donnés. \n",
    "#Tableau d'origine1 : [0 1 2] \n",
    "#Tableau d'origine2 : [2 1 0] \n",
    "#Matrice de covariance desdits tableaux : [[ 1. -1.] [-1. 1.]]"
   ]
  },
  {
   "cell_type": "code",
   "execution_count": 3,
   "id": "7ebc7423",
   "metadata": {},
   "outputs": [
    {
     "name": "stdout",
     "output_type": "stream",
     "text": [
      "[[ 1. -1.]\n",
      " [-1.  1.]]\n"
     ]
    }
   ],
   "source": [
    "import numpy as np\n",
    " \n",
    "tab1 = np.array([0,1,2]);\n",
    "tab2 = np.array([2,1,0]);\n",
    "\n",
    "rest = np.cov(tab1,tab2);\n",
    "print(rest);"
   ]
  },
  {
   "cell_type": "code",
   "execution_count": null,
   "id": "ca1d08d8",
   "metadata": {},
   "outputs": [],
   "source": []
  }
 ],
 "metadata": {
  "kernelspec": {
   "display_name": "Python 3",
   "language": "python",
   "name": "python3"
  },
  "language_info": {
   "codemirror_mode": {
    "name": "ipython",
    "version": 3
   },
   "file_extension": ".py",
   "mimetype": "text/x-python",
   "name": "python",
   "nbconvert_exporter": "python",
   "pygments_lexer": "ipython3",
   "version": "3.8.8"
  }
 },
 "nbformat": 4,
 "nbformat_minor": 5
}
