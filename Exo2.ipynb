{
 "cells": [
  {
   "cell_type": "code",
   "execution_count": 17,
   "id": "c1ddf4a9",
   "metadata": {},
   "outputs": [],
   "source": [
    "#Écrivez un programme qui peut calculer la factorielle d'un nombre donné. \n",
    "# (la factorielle de n est le produit de tous les entiers positifs inférieurs ou égaux à n).\n",
    "#  par exemple factoriel(5)= 5 x 4 x 3 x 2 x 1 le résultat est 120. (c'est-à-dire factoriel (0)=1).\n"
   ]
  },
  {
   "cell_type": "code",
   "execution_count": 16,
   "id": "27fc6c09",
   "metadata": {},
   "outputs": [
    {
     "name": "stdout",
     "output_type": "stream",
     "text": [
      "Entrez un nombre : 5\n",
      "5 ! =  120\n"
     ]
    }
   ],
   "source": [
    "nbr = int(input('Entrez un nombre : '))\n",
    "fact = 1;\n",
    "for i in range(1, nbr+1):\n",
    "    fact = fact * i;\n",
    "print (nbr,'! = ',fact);"
   ]
  },
  {
   "cell_type": "code",
   "execution_count": null,
   "id": "1a513b9e",
   "metadata": {},
   "outputs": [],
   "source": []
  }
 ],
 "metadata": {
  "kernelspec": {
   "display_name": "Python 3",
   "language": "python",
   "name": "python3"
  },
  "language_info": {
   "codemirror_mode": {
    "name": "ipython",
    "version": 3
   },
   "file_extension": ".py",
   "mimetype": "text/x-python",
   "name": "python",
   "nbconvert_exporter": "python",
   "pygments_lexer": "ipython3",
   "version": "3.8.8"
  }
 },
 "nbformat": 4,
 "nbformat_minor": 5
}
