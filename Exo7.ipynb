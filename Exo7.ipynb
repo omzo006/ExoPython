{
 "cells": [
  {
   "cell_type": "code",
   "execution_count": 5,
   "id": "b750da73",
   "metadata": {},
   "outputs": [],
   "source": [
    "#Question 7\n",
    "# Question : Écrivez un programme qui calcule et imprime la valeur selon la formule donnée :\n",
    "# Q = racine carrée de [(2 * C * D)/H] \n",
    "# Voici les valeurs fixes de C et H : C est 50. H est 30. \n",
    "# D est la variable dont les valeurs doivent être entrées dans votre programme dans une séquence séparée \n",
    "# par des virgules. (cela signifie que D contient plus que la valeur)\n",
    "# Exemple Supposons que la séquence d'entrées séparée par des virgules suivante est donnée au programme : \n",
    "# 100,150,180 La sortie du programme doit être : 18,22,24 \n",
    "# Pour mieux expliquer cela, nous obtiendrons un résultat pour chaque valeur \n",
    "# de D : Q1= Racine carrée de [(2 * C * 100)/H] =18, Q2= Racine carrée de [(2 * C * 150)/H ] = 22 et\n",
    "# Q3 = Racine carrée de [(2 * C * 180)/H] = 24\n",
    "# Conseils : Si la sortie reçue est sous forme décimale, elle doit être arrondie à sa valeur la plus proche \n",
    "# (par exemple, si la sortie reçue est 26,0, elle doit être imprimée comme 26) \n",
    "# En cas de données d'entrée fournies à la question, il doit être considéré comme une entrée de console. \n"
   ]
  },
  {
   "cell_type": "code",
   "execution_count": 6,
   "id": "86ae1a21",
   "metadata": {},
   "outputs": [
    {
     "name": "stdout",
     "output_type": "stream",
     "text": [
      "(18, 22, 24)\n"
     ]
    }
   ],
   "source": [
    "# 1er méthode :\n",
    "\n",
    "from math import sqrt\n",
    "\n",
    "def myfunction(x,y,z):\n",
    "    x = int(sqrt((2*50*x)/30)); \n",
    "    y = int(sqrt((2*50*y)/30)); \n",
    "    z = int(sqrt((2*50*z)/30)); \n",
    "    return x,y,z\n",
    "\n",
    "print(myfunction(100,150,180));"
   ]
  },
  {
   "cell_type": "code",
   "execution_count": null,
   "id": "d642d624",
   "metadata": {},
   "outputs": [],
   "source": [
    "# 2eme méthode\n",
    "# importer la fonction racine carre\n",
    "from math import sqrt\n",
    "#creation de list\n",
    "valeur = [];\n",
    "# insertion de donnéé sur une liste\n",
    "tab =[i for i in input().split(',')];\n",
    "for i in tab:\n",
    "    calcul = str(int(round(sqrt(2*50*float(i)/30))));\n",
    "    # ajouter les valeurs dans la liste\n",
    "    valeur.append(calcul);\n",
    "    \n",
    "print(','.join(valeur));"
   ]
  },
  {
   "cell_type": "code",
   "execution_count": null,
   "id": "8629f2c8",
   "metadata": {},
   "outputs": [],
   "source": []
  }
 ],
 "metadata": {
  "kernelspec": {
   "display_name": "Python 3",
   "language": "python",
   "name": "python3"
  },
  "language_info": {
   "codemirror_mode": {
    "name": "ipython",
    "version": 3
   },
   "file_extension": ".py",
   "mimetype": "text/x-python",
   "name": "python",
   "nbconvert_exporter": "python",
   "pygments_lexer": "ipython3",
   "version": "3.8.8"
  }
 },
 "nbformat": 4,
 "nbformat_minor": 5
}
