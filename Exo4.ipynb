{
 "cells": [
  {
   "cell_type": "code",
   "execution_count": null,
   "id": "49cb832a",
   "metadata": {},
   "outputs": [],
   "source": [
    "#Question 4 \n",
    "# Étant donné une chaîne non vide et un int n, renvoie une nouvelle chaîne où le caractère à \n",
    "# l'index n a été supprimé. La valeur de n sera un index valide d'un caractère dans la chaîne d'origine \n",
    "#(c'est-à-dire que n sera dans la plage 0..len(str)-1 inclus). \n",
    "# missing_char('kitten', 1) → 'ktten' par exemple ici on supprime \"i\" qui se trouve dans l'index 1\n",
    "# missing_char('kitten', 0) → 'itten' ici on supprime \"k\" qui est dans l'index 0\n",
    "# missing_char('kitten', 4) → 'kittn' ici on supprime \"e\" qui est dans l'index 4"
   ]
  },
  {
   "cell_type": "code",
   "execution_count": null,
   "id": "8eb9f49c",
   "metadata": {},
   "outputs": [],
   "source": [
    "ch = 'Bonjourrr';\n",
    "print(ch[:8]);"
   ]
  }
 ],
 "metadata": {
  "kernelspec": {
   "display_name": "Python 3",
   "language": "python",
   "name": "python3"
  },
  "language_info": {
   "codemirror_mode": {
    "name": "ipython",
    "version": 3
   },
   "file_extension": ".py",
   "mimetype": "text/x-python",
   "name": "python",
   "nbconvert_exporter": "python",
   "pygments_lexer": "ipython3",
   "version": "3.8.8"
  }
 },
 "nbformat": 4,
 "nbformat_minor": 5
}
