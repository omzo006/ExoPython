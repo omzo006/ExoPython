{
 "cells": [
  {
   "cell_type": "code",
   "execution_count": 4,
   "id": "495d74e5",
   "metadata": {},
   "outputs": [],
   "source": [
    "#Question 5 \n",
    "# Ecrivez un programme NumPy pour convertir un tableau NumPy en une structure de liste Python.\n",
    "# Production attendue: \n",
    "# Éléments du tableau d'origine : [[0 1] [2 3] [4 5]] \n",
    "# Tableau à lister : [[0, 1], [2, 3], [4, 5]]"
   ]
  },
  {
   "cell_type": "code",
   "execution_count": 3,
   "id": "bb129515",
   "metadata": {},
   "outputs": [
    {
     "name": "stdout",
     "output_type": "stream",
     "text": [
      "[[0, 1], [2, 3], [4, 5]]\n"
     ]
    }
   ],
   "source": [
    "import numpy as np\n",
    "newTab = np.array([[0,1],[2 ,3],[4 ,5]]);\n",
    "print(newTab.tolist());"
   ]
  },
  {
   "cell_type": "code",
   "execution_count": null,
   "id": "4dfd9cb5",
   "metadata": {},
   "outputs": [],
   "source": []
  }
 ],
 "metadata": {
  "kernelspec": {
   "display_name": "Python 3",
   "language": "python",
   "name": "python3"
  },
  "language_info": {
   "codemirror_mode": {
    "name": "ipython",
    "version": 3
   },
   "file_extension": ".py",
   "mimetype": "text/x-python",
   "name": "python",
   "nbconvert_exporter": "python",
   "pygments_lexer": "ipython3",
   "version": "3.8.8"
  }
 },
 "nbformat": 4,
 "nbformat_minor": 5
}
