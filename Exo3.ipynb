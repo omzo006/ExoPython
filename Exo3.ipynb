{
 "cells": [
  {
   "cell_type": "code",
   "execution_count": 3,
   "id": "9bb9a46b",
   "metadata": {},
   "outputs": [],
   "source": [
    "#Question 3 \n",
    "#Avec un nombre entier donné n, écrivez un programme pour générer un dictionnaire qui contient (i, i*i) \n",
    "#tel qu'il soit un nombre entier compris entre 1 et n (tous deux inclus). \n",
    "#puis le programme devrait imprimer le dictionnaire.\n",
    "#Supposons que l'entrée suivante soit fournie au programme : 8 Ensuite, \n",
    "#la sortie devrait être : {1 : 1, 2 : 4, 3 : 9, 4 : 16, 5 : 25, 6 : 36, 7 : 49, 8 : 64 }"
   ]
  },
  {
   "cell_type": "code",
   "execution_count": 4,
   "id": "2f195822",
   "metadata": {},
   "outputs": [
    {
     "name": "stdout",
     "output_type": "stream",
     "text": [
      "Entrez un nombre: 8\n",
      "{1}\n",
      "{2, 4}\n",
      "{9, 3}\n",
      "{16, 4}\n",
      "{25, 5}\n",
      "{36, 6}\n",
      "{49, 7}\n",
      "{8, 64}\n"
     ]
    }
   ],
   "source": [
    "nbr = int(input(\"Entrez un nombre: \"))\n",
    "for i in range(1, nbr+1):\n",
    "    dico={i,i*i};\n",
    "    print(dico);"
   ]
  },
  {
   "cell_type": "code",
   "execution_count": null,
   "id": "a89a861c",
   "metadata": {},
   "outputs": [],
   "source": []
  }
 ],
 "metadata": {
  "kernelspec": {
   "display_name": "Python 3",
   "language": "python",
   "name": "python3"
  },
  "language_info": {
   "codemirror_mode": {
    "name": "ipython",
    "version": 3
   },
   "file_extension": ".py",
   "mimetype": "text/x-python",
   "name": "python",
   "nbconvert_exporter": "python",
   "pygments_lexer": "ipython3",
   "version": "3.8.8"
  }
 },
 "nbformat": 4,
 "nbformat_minor": 5
}
